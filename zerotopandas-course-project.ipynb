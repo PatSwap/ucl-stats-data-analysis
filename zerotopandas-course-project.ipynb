{
 "cells": [
  {
   "cell_type": "markdown",
   "metadata": {},
   "source": [
    "# Analyzing UCL Stats from 1993-2020\n",
    "\n",
    "The UCL Statistics dataset is an archive of football statistics for different teams during the period 1992-2020 in the UEFA Champions League - an annual football championship where football clubs from Europe's top divisions compete. The dataset was shared on kaggle by Abu Bakar (kaggle.com/bakar31)\n",
    "\n",
    "In this analysis, we will try to observe the data closely for interesting trends and recurrences in the winners and losers, and try to see if there are features that are indicative of how strong a team was. We will tool modules such as numpy and pandas and tools such as matplotlib and seaborn to visualize the data.\n",
    "\n",
    "This analysis is a Course Project for Jovian and FreeCodeCamp's Data Analysis Course [Data Analysis with Python: Zero to Pandas](zerotopandas.com)."
   ]
  },
  {
   "cell_type": "markdown",
   "metadata": {},
   "source": [
    "## Downloading the Dataset\n",
    "\n",
    "**GETTING READY** - Before we begin the analysis, we have to download the dataset from kaggle and unzip the package to retrieve a csv file"
   ]
  },
  {
   "cell_type": "code",
   "execution_count": 1,
   "metadata": {},
   "outputs": [],
   "source": [
    "!pip install jovian opendatasets --upgrade --quiet"
   ]
  },
  {
   "cell_type": "markdown",
   "metadata": {},
   "source": [
    "Let's begin by downloading the data, and listing the files within the dataset."
   ]
  },
  {
   "cell_type": "code",
   "execution_count": 2,
   "metadata": {},
   "outputs": [],
   "source": [
    "# Saving the dataset URL in a variable\n",
    "dataset_url = 'https://www.kaggle.com/bakar31/ucl-statistics' "
   ]
  },
  {
   "cell_type": "code",
   "execution_count": 3,
   "metadata": {},
   "outputs": [
    {
     "name": "stdout",
     "output_type": "stream",
     "text": [
      "Please provide your Kaggle credentials to download this dataset. Learn more: http://bit.ly/kaggle-creds\n",
      "Your Kaggle username: brusheikh\n",
      "Your Kaggle Key: ········\n"
     ]
    },
    {
     "name": "stderr",
     "output_type": "stream",
     "text": [
      "100%|██████████| 7.59k/7.59k [00:00<00:00, 4.97MB/s]"
     ]
    },
    {
     "name": "stdout",
     "output_type": "stream",
     "text": [
      "Downloading ucl-statistics.zip to ./ucl-statistics\n",
      "\n"
     ]
    },
    {
     "name": "stderr",
     "output_type": "stream",
     "text": [
      "\n"
     ]
    }
   ],
   "source": [
    "import opendatasets as od\n",
    "od.download(dataset_url)"
   ]
  },
  {
   "cell_type": "markdown",
   "metadata": {},
   "source": [
    "The dataset has been downloaded and extracted."
   ]
  },
  {
   "cell_type": "code",
   "execution_count": 4,
   "metadata": {},
   "outputs": [],
   "source": [
    "# creating a data directory\n",
    "data_dir = './ucl-statistics'"
   ]
  },
  {
   "cell_type": "code",
   "execution_count": 5,
   "metadata": {},
   "outputs": [
    {
     "data": {
      "text/plain": [
       "['ucl_stats.csv']"
      ]
     },
     "execution_count": 5,
     "metadata": {},
     "output_type": "execute_result"
    }
   ],
   "source": [
    "import os\n",
    "os.listdir(data_dir)"
   ]
  },
  {
   "cell_type": "markdown",
   "metadata": {},
   "source": [
    "Let us save and upload our work to Jovian before continuing."
   ]
  },
  {
   "cell_type": "code",
   "execution_count": 6,
   "metadata": {},
   "outputs": [],
   "source": [
    "project_name = \"zerotopandas-course-project-ucl-stats\""
   ]
  },
  {
   "cell_type": "code",
   "execution_count": 7,
   "metadata": {},
   "outputs": [],
   "source": [
    "!pip install jovian --upgrade -q"
   ]
  },
  {
   "cell_type": "code",
   "execution_count": 8,
   "metadata": {},
   "outputs": [],
   "source": [
    "import jovian"
   ]
  },
  {
   "cell_type": "code",
   "execution_count": 9,
   "metadata": {},
   "outputs": [
    {
     "data": {
      "application/javascript": [
       "window.require && require([\"base/js/namespace\"],function(Jupyter){Jupyter.notebook.save_checkpoint()})"
      ],
      "text/plain": [
       "<IPython.core.display.Javascript object>"
      ]
     },
     "metadata": {},
     "output_type": "display_data"
    },
    {
     "name": "stdout",
     "output_type": "stream",
     "text": [
      "[jovian] Updating notebook \"patswap/zerotopandas-course-project-ucl-stats\" on https://jovian.ai\u001b[0m\n",
      "[jovian] Committed successfully! https://jovian.ai/patswap/zerotopandas-course-project-ucl-stats\u001b[0m\n"
     ]
    },
    {
     "data": {
      "text/plain": [
       "'https://jovian.ai/patswap/zerotopandas-course-project-ucl-stats'"
      ]
     },
     "execution_count": 9,
     "metadata": {},
     "output_type": "execute_result"
    }
   ],
   "source": [
    "jovian.commit(project=project_name)"
   ]
  },
  {
   "cell_type": "markdown",
   "metadata": {},
   "source": [
    "## Data Preparation and Cleaning\n",
    "\n",
    "**FIRST STEPS** - The analysis requires cleaned data that has been handled for all the discrepancies. We this begin with that stage\n",
    "\n"
   ]
  },
  {
   "cell_type": "code",
   "execution_count": 10,
   "metadata": {},
   "outputs": [],
   "source": [
    "import pandas as pd;\n",
    "import numpy as np;"
   ]
  },
  {
   "cell_type": "code",
   "execution_count": 11,
   "metadata": {},
   "outputs": [],
   "source": [
    "stats_raw_df = pd.read_csv('/home/jovyan/ucl-statistics/ucl_stats.csv')"
   ]
  },
  {
   "cell_type": "code",
   "execution_count": 12,
   "metadata": {},
   "outputs": [
    {
     "data": {
      "text/html": [
       "<div>\n",
       "<style scoped>\n",
       "    .dataframe tbody tr th:only-of-type {\n",
       "        vertical-align: middle;\n",
       "    }\n",
       "\n",
       "    .dataframe tbody tr th {\n",
       "        vertical-align: top;\n",
       "    }\n",
       "\n",
       "    .dataframe thead th {\n",
       "        text-align: right;\n",
       "    }\n",
       "</style>\n",
       "<table border=\"1\" class=\"dataframe\">\n",
       "  <thead>\n",
       "    <tr style=\"text-align: right;\">\n",
       "      <th></th>\n",
       "      <th>year</th>\n",
       "      <th>team</th>\n",
       "      <th>match_played</th>\n",
       "      <th>wins</th>\n",
       "      <th>draws</th>\n",
       "      <th>losts</th>\n",
       "      <th>goals_scored</th>\n",
       "      <th>goals_conceded</th>\n",
       "      <th>gd</th>\n",
       "      <th>group_point</th>\n",
       "      <th>champions</th>\n",
       "    </tr>\n",
       "  </thead>\n",
       "  <tbody>\n",
       "    <tr>\n",
       "      <th>0</th>\n",
       "      <td>1993</td>\n",
       "      <td>Marseille</td>\n",
       "      <td>6</td>\n",
       "      <td>3</td>\n",
       "      <td>3</td>\n",
       "      <td>0</td>\n",
       "      <td>14</td>\n",
       "      <td>4</td>\n",
       "      <td>10</td>\n",
       "      <td>9</td>\n",
       "      <td>1</td>\n",
       "    </tr>\n",
       "    <tr>\n",
       "      <th>1</th>\n",
       "      <td>1993</td>\n",
       "      <td>Milan</td>\n",
       "      <td>7</td>\n",
       "      <td>6</td>\n",
       "      <td>0</td>\n",
       "      <td>1</td>\n",
       "      <td>11</td>\n",
       "      <td>2</td>\n",
       "      <td>9</td>\n",
       "      <td>12</td>\n",
       "      <td>0</td>\n",
       "    </tr>\n",
       "    <tr>\n",
       "      <th>2</th>\n",
       "      <td>1993</td>\n",
       "      <td>Rangers</td>\n",
       "      <td>6</td>\n",
       "      <td>2</td>\n",
       "      <td>4</td>\n",
       "      <td>0</td>\n",
       "      <td>7</td>\n",
       "      <td>5</td>\n",
       "      <td>2</td>\n",
       "      <td>8</td>\n",
       "      <td>0</td>\n",
       "    </tr>\n",
       "    <tr>\n",
       "      <th>3</th>\n",
       "      <td>1993</td>\n",
       "      <td>Club Brugge</td>\n",
       "      <td>6</td>\n",
       "      <td>2</td>\n",
       "      <td>1</td>\n",
       "      <td>3</td>\n",
       "      <td>5</td>\n",
       "      <td>8</td>\n",
       "      <td>-3</td>\n",
       "      <td>5</td>\n",
       "      <td>0</td>\n",
       "    </tr>\n",
       "    <tr>\n",
       "      <th>4</th>\n",
       "      <td>1993</td>\n",
       "      <td>CSKA Moscow</td>\n",
       "      <td>6</td>\n",
       "      <td>0</td>\n",
       "      <td>2</td>\n",
       "      <td>4</td>\n",
       "      <td>2</td>\n",
       "      <td>11</td>\n",
       "      <td>-9</td>\n",
       "      <td>2</td>\n",
       "      <td>0</td>\n",
       "    </tr>\n",
       "    <tr>\n",
       "      <th>...</th>\n",
       "      <td>...</td>\n",
       "      <td>...</td>\n",
       "      <td>...</td>\n",
       "      <td>...</td>\n",
       "      <td>...</td>\n",
       "      <td>...</td>\n",
       "      <td>...</td>\n",
       "      <td>...</td>\n",
       "      <td>...</td>\n",
       "      <td>...</td>\n",
       "      <td>...</td>\n",
       "    </tr>\n",
       "    <tr>\n",
       "      <th>715</th>\n",
       "      <td>2020</td>\n",
       "      <td>Zenit Saint Petersburg</td>\n",
       "      <td>6</td>\n",
       "      <td>2</td>\n",
       "      <td>1</td>\n",
       "      <td>3</td>\n",
       "      <td>7</td>\n",
       "      <td>9</td>\n",
       "      <td>-2</td>\n",
       "      <td>7</td>\n",
       "      <td>0</td>\n",
       "    </tr>\n",
       "    <tr>\n",
       "      <th>716</th>\n",
       "      <td>2020</td>\n",
       "      <td>Valencia</td>\n",
       "      <td>8</td>\n",
       "      <td>3</td>\n",
       "      <td>2</td>\n",
       "      <td>3</td>\n",
       "      <td>13</td>\n",
       "      <td>15</td>\n",
       "      <td>-2</td>\n",
       "      <td>11</td>\n",
       "      <td>0</td>\n",
       "    </tr>\n",
       "    <tr>\n",
       "      <th>717</th>\n",
       "      <td>2020</td>\n",
       "      <td>Chelsea</td>\n",
       "      <td>8</td>\n",
       "      <td>3</td>\n",
       "      <td>2</td>\n",
       "      <td>3</td>\n",
       "      <td>12</td>\n",
       "      <td>16</td>\n",
       "      <td>-4</td>\n",
       "      <td>11</td>\n",
       "      <td>0</td>\n",
       "    </tr>\n",
       "    <tr>\n",
       "      <th>718</th>\n",
       "      <td>2020</td>\n",
       "      <td>Ajax</td>\n",
       "      <td>6</td>\n",
       "      <td>3</td>\n",
       "      <td>1</td>\n",
       "      <td>2</td>\n",
       "      <td>12</td>\n",
       "      <td>6</td>\n",
       "      <td>6</td>\n",
       "      <td>10</td>\n",
       "      <td>0</td>\n",
       "    </tr>\n",
       "    <tr>\n",
       "      <th>719</th>\n",
       "      <td>2020</td>\n",
       "      <td>Lille</td>\n",
       "      <td>6</td>\n",
       "      <td>0</td>\n",
       "      <td>1</td>\n",
       "      <td>5</td>\n",
       "      <td>4</td>\n",
       "      <td>14</td>\n",
       "      <td>-10</td>\n",
       "      <td>1</td>\n",
       "      <td>0</td>\n",
       "    </tr>\n",
       "  </tbody>\n",
       "</table>\n",
       "<p>720 rows × 11 columns</p>\n",
       "</div>"
      ],
      "text/plain": [
       "     year                    team  match_played  wins  draws  losts  \\\n",
       "0    1993               Marseille             6     3      3      0   \n",
       "1    1993                   Milan             7     6      0      1   \n",
       "2    1993                 Rangers             6     2      4      0   \n",
       "3    1993             Club Brugge             6     2      1      3   \n",
       "4    1993             CSKA Moscow             6     0      2      4   \n",
       "..    ...                     ...           ...   ...    ...    ...   \n",
       "715  2020  Zenit Saint Petersburg             6     2      1      3   \n",
       "716  2020                Valencia             8     3      2      3   \n",
       "717  2020                 Chelsea             8     3      2      3   \n",
       "718  2020                    Ajax             6     3      1      2   \n",
       "719  2020                   Lille             6     0      1      5   \n",
       "\n",
       "     goals_scored  goals_conceded  gd  group_point  champions  \n",
       "0              14               4  10            9          1  \n",
       "1              11               2   9           12          0  \n",
       "2               7               5   2            8          0  \n",
       "3               5               8  -3            5          0  \n",
       "4               2              11  -9            2          0  \n",
       "..            ...             ...  ..          ...        ...  \n",
       "715             7               9  -2            7          0  \n",
       "716            13              15  -2           11          0  \n",
       "717            12              16  -4           11          0  \n",
       "718            12               6   6           10          0  \n",
       "719             4              14 -10            1          0  \n",
       "\n",
       "[720 rows x 11 columns]"
      ]
     },
     "execution_count": 12,
     "metadata": {},
     "output_type": "execute_result"
    }
   ],
   "source": [
    "stats_raw_df"
   ]
  },
  {
   "cell_type": "markdown",
   "metadata": {},
   "source": [
    "**Thus, our stats_raw_df Pandas dataframe of the raw data has 720 rows and 11 columns**"
   ]
  },
  {
   "cell_type": "code",
   "execution_count": 13,
   "metadata": {},
   "outputs": [
    {
     "name": "stdout",
     "output_type": "stream",
     "text": [
      "<class 'pandas.core.frame.DataFrame'>\n",
      "RangeIndex: 720 entries, 0 to 719\n",
      "Data columns (total 11 columns):\n",
      " #   Column          Non-Null Count  Dtype \n",
      "---  ------          --------------  ----- \n",
      " 0   year            720 non-null    int64 \n",
      " 1   team            720 non-null    object\n",
      " 2   match_played    720 non-null    int64 \n",
      " 3   wins            720 non-null    int64 \n",
      " 4   draws           720 non-null    int64 \n",
      " 5   losts           720 non-null    int64 \n",
      " 6   goals_scored    720 non-null    int64 \n",
      " 7   goals_conceded  720 non-null    int64 \n",
      " 8   gd              720 non-null    int64 \n",
      " 9   group_point     720 non-null    int64 \n",
      " 10  champions       720 non-null    int64 \n",
      "dtypes: int64(10), object(1)\n",
      "memory usage: 62.0+ KB\n"
     ]
    }
   ],
   "source": [
    "stats_raw_df.info()"
   ]
  },
  {
   "cell_type": "markdown",
   "metadata": {},
   "source": [
    "*From the above information, it is clear that all 11 columns have non null values, 10 of which are integer values while the Team column is an object as it has the names of the teams.*"
   ]
  },
  {
   "cell_type": "code",
   "execution_count": 14,
   "metadata": {},
   "outputs": [
    {
     "data": {
      "text/html": [
       "<div>\n",
       "<style scoped>\n",
       "    .dataframe tbody tr th:only-of-type {\n",
       "        vertical-align: middle;\n",
       "    }\n",
       "\n",
       "    .dataframe tbody tr th {\n",
       "        vertical-align: top;\n",
       "    }\n",
       "\n",
       "    .dataframe thead th {\n",
       "        text-align: right;\n",
       "    }\n",
       "</style>\n",
       "<table border=\"1\" class=\"dataframe\">\n",
       "  <thead>\n",
       "    <tr style=\"text-align: right;\">\n",
       "      <th></th>\n",
       "      <th>year</th>\n",
       "      <th>match_played</th>\n",
       "      <th>wins</th>\n",
       "      <th>draws</th>\n",
       "      <th>losts</th>\n",
       "      <th>goals_scored</th>\n",
       "      <th>goals_conceded</th>\n",
       "      <th>gd</th>\n",
       "      <th>group_point</th>\n",
       "      <th>champions</th>\n",
       "    </tr>\n",
       "  </thead>\n",
       "  <tbody>\n",
       "    <tr>\n",
       "      <th>count</th>\n",
       "      <td>720.000000</td>\n",
       "      <td>720.000000</td>\n",
       "      <td>720.000000</td>\n",
       "      <td>720.000000</td>\n",
       "      <td>720.000000</td>\n",
       "      <td>720.000000</td>\n",
       "      <td>720.000000</td>\n",
       "      <td>720.000000</td>\n",
       "      <td>720.000000</td>\n",
       "      <td>720.000000</td>\n",
       "    </tr>\n",
       "    <tr>\n",
       "      <th>mean</th>\n",
       "      <td>2008.688889</td>\n",
       "      <td>7.659722</td>\n",
       "      <td>2.920833</td>\n",
       "      <td>1.830556</td>\n",
       "      <td>2.911111</td>\n",
       "      <td>10.522222</td>\n",
       "      <td>10.490278</td>\n",
       "      <td>0.091667</td>\n",
       "      <td>8.133333</td>\n",
       "      <td>0.038889</td>\n",
       "    </tr>\n",
       "    <tr>\n",
       "      <th>std</th>\n",
       "      <td>7.351526</td>\n",
       "      <td>2.097628</td>\n",
       "      <td>2.316563</td>\n",
       "      <td>1.277454</td>\n",
       "      <td>1.248259</td>\n",
       "      <td>6.982757</td>\n",
       "      <td>3.669961</td>\n",
       "      <td>7.645660</td>\n",
       "      <td>4.213562</td>\n",
       "      <td>0.193465</td>\n",
       "    </tr>\n",
       "    <tr>\n",
       "      <th>min</th>\n",
       "      <td>1993.000000</td>\n",
       "      <td>6.000000</td>\n",
       "      <td>0.000000</td>\n",
       "      <td>0.000000</td>\n",
       "      <td>0.000000</td>\n",
       "      <td>0.000000</td>\n",
       "      <td>2.000000</td>\n",
       "      <td>-22.000000</td>\n",
       "      <td>-8.000000</td>\n",
       "      <td>0.000000</td>\n",
       "    </tr>\n",
       "    <tr>\n",
       "      <th>25%</th>\n",
       "      <td>2004.000000</td>\n",
       "      <td>6.000000</td>\n",
       "      <td>1.000000</td>\n",
       "      <td>1.000000</td>\n",
       "      <td>2.000000</td>\n",
       "      <td>5.000000</td>\n",
       "      <td>8.000000</td>\n",
       "      <td>-5.000000</td>\n",
       "      <td>5.000000</td>\n",
       "      <td>0.000000</td>\n",
       "    </tr>\n",
       "    <tr>\n",
       "      <th>50%</th>\n",
       "      <td>2009.000000</td>\n",
       "      <td>6.000000</td>\n",
       "      <td>2.000000</td>\n",
       "      <td>2.000000</td>\n",
       "      <td>3.000000</td>\n",
       "      <td>9.000000</td>\n",
       "      <td>10.000000</td>\n",
       "      <td>0.000000</td>\n",
       "      <td>8.000000</td>\n",
       "      <td>0.000000</td>\n",
       "    </tr>\n",
       "    <tr>\n",
       "      <th>75%</th>\n",
       "      <td>2015.000000</td>\n",
       "      <td>8.000000</td>\n",
       "      <td>4.000000</td>\n",
       "      <td>3.000000</td>\n",
       "      <td>4.000000</td>\n",
       "      <td>14.000000</td>\n",
       "      <td>13.000000</td>\n",
       "      <td>5.000000</td>\n",
       "      <td>11.000000</td>\n",
       "      <td>0.000000</td>\n",
       "    </tr>\n",
       "    <tr>\n",
       "      <th>max</th>\n",
       "      <td>2020.000000</td>\n",
       "      <td>13.000000</td>\n",
       "      <td>11.000000</td>\n",
       "      <td>7.000000</td>\n",
       "      <td>6.000000</td>\n",
       "      <td>43.000000</td>\n",
       "      <td>24.000000</td>\n",
       "      <td>35.000000</td>\n",
       "      <td>18.000000</td>\n",
       "      <td>1.000000</td>\n",
       "    </tr>\n",
       "  </tbody>\n",
       "</table>\n",
       "</div>"
      ],
      "text/plain": [
       "              year  match_played        wins       draws       losts  \\\n",
       "count   720.000000    720.000000  720.000000  720.000000  720.000000   \n",
       "mean   2008.688889      7.659722    2.920833    1.830556    2.911111   \n",
       "std       7.351526      2.097628    2.316563    1.277454    1.248259   \n",
       "min    1993.000000      6.000000    0.000000    0.000000    0.000000   \n",
       "25%    2004.000000      6.000000    1.000000    1.000000    2.000000   \n",
       "50%    2009.000000      6.000000    2.000000    2.000000    3.000000   \n",
       "75%    2015.000000      8.000000    4.000000    3.000000    4.000000   \n",
       "max    2020.000000     13.000000   11.000000    7.000000    6.000000   \n",
       "\n",
       "       goals_scored  goals_conceded          gd  group_point   champions  \n",
       "count    720.000000      720.000000  720.000000   720.000000  720.000000  \n",
       "mean      10.522222       10.490278    0.091667     8.133333    0.038889  \n",
       "std        6.982757        3.669961    7.645660     4.213562    0.193465  \n",
       "min        0.000000        2.000000  -22.000000    -8.000000    0.000000  \n",
       "25%        5.000000        8.000000   -5.000000     5.000000    0.000000  \n",
       "50%        9.000000       10.000000    0.000000     8.000000    0.000000  \n",
       "75%       14.000000       13.000000    5.000000    11.000000    0.000000  \n",
       "max       43.000000       24.000000   35.000000    18.000000    1.000000  "
      ]
     },
     "execution_count": 14,
     "metadata": {},
     "output_type": "execute_result"
    }
   ],
   "source": [
    "stats_raw_df.describe()"
   ]
  },
  {
   "cell_type": "markdown",
   "metadata": {},
   "source": [
    "*The above statistics give us some interesting insights into the range of values of our columns, esp. about wins, goals scored and goals conceded.*"
   ]
  },
  {
   "cell_type": "code",
   "execution_count": 15,
   "metadata": {},
   "outputs": [
    {
     "data": {
      "text/plain": [
       "28"
      ]
     },
     "execution_count": 15,
     "metadata": {},
     "output_type": "execute_result"
    }
   ],
   "source": [
    "#Checking whether there are as many champions as the number of years\n",
    "stats_raw_df['champions'].sum()"
   ]
  },
  {
   "cell_type": "code",
   "execution_count": 16,
   "metadata": {},
   "outputs": [
    {
     "data": {
      "text/html": [
       "<div>\n",
       "<style scoped>\n",
       "    .dataframe tbody tr th:only-of-type {\n",
       "        vertical-align: middle;\n",
       "    }\n",
       "\n",
       "    .dataframe tbody tr th {\n",
       "        vertical-align: top;\n",
       "    }\n",
       "\n",
       "    .dataframe thead th {\n",
       "        text-align: right;\n",
       "    }\n",
       "</style>\n",
       "<table border=\"1\" class=\"dataframe\">\n",
       "  <thead>\n",
       "    <tr style=\"text-align: right;\">\n",
       "      <th></th>\n",
       "      <th>year</th>\n",
       "      <th>team</th>\n",
       "      <th>match_played</th>\n",
       "      <th>wins</th>\n",
       "      <th>draws</th>\n",
       "      <th>losts</th>\n",
       "      <th>goals_scored</th>\n",
       "      <th>goals_conceded</th>\n",
       "      <th>gd</th>\n",
       "      <th>group_point</th>\n",
       "      <th>champions</th>\n",
       "      <th>win_percent</th>\n",
       "    </tr>\n",
       "  </thead>\n",
       "  <tbody>\n",
       "    <tr>\n",
       "      <th>0</th>\n",
       "      <td>1993</td>\n",
       "      <td>Marseille</td>\n",
       "      <td>6</td>\n",
       "      <td>3</td>\n",
       "      <td>3</td>\n",
       "      <td>0</td>\n",
       "      <td>14</td>\n",
       "      <td>4</td>\n",
       "      <td>10</td>\n",
       "      <td>9</td>\n",
       "      <td>1</td>\n",
       "      <td>50.000000</td>\n",
       "    </tr>\n",
       "    <tr>\n",
       "      <th>1</th>\n",
       "      <td>1993</td>\n",
       "      <td>Milan</td>\n",
       "      <td>7</td>\n",
       "      <td>6</td>\n",
       "      <td>0</td>\n",
       "      <td>1</td>\n",
       "      <td>11</td>\n",
       "      <td>2</td>\n",
       "      <td>9</td>\n",
       "      <td>12</td>\n",
       "      <td>0</td>\n",
       "      <td>85.714286</td>\n",
       "    </tr>\n",
       "    <tr>\n",
       "      <th>2</th>\n",
       "      <td>1993</td>\n",
       "      <td>Rangers</td>\n",
       "      <td>6</td>\n",
       "      <td>2</td>\n",
       "      <td>4</td>\n",
       "      <td>0</td>\n",
       "      <td>7</td>\n",
       "      <td>5</td>\n",
       "      <td>2</td>\n",
       "      <td>8</td>\n",
       "      <td>0</td>\n",
       "      <td>33.333333</td>\n",
       "    </tr>\n",
       "    <tr>\n",
       "      <th>3</th>\n",
       "      <td>1993</td>\n",
       "      <td>Club Brugge</td>\n",
       "      <td>6</td>\n",
       "      <td>2</td>\n",
       "      <td>1</td>\n",
       "      <td>3</td>\n",
       "      <td>5</td>\n",
       "      <td>8</td>\n",
       "      <td>-3</td>\n",
       "      <td>5</td>\n",
       "      <td>0</td>\n",
       "      <td>33.333333</td>\n",
       "    </tr>\n",
       "    <tr>\n",
       "      <th>4</th>\n",
       "      <td>1993</td>\n",
       "      <td>CSKA Moscow</td>\n",
       "      <td>6</td>\n",
       "      <td>0</td>\n",
       "      <td>2</td>\n",
       "      <td>4</td>\n",
       "      <td>2</td>\n",
       "      <td>11</td>\n",
       "      <td>-9</td>\n",
       "      <td>2</td>\n",
       "      <td>0</td>\n",
       "      <td>0.000000</td>\n",
       "    </tr>\n",
       "    <tr>\n",
       "      <th>...</th>\n",
       "      <td>...</td>\n",
       "      <td>...</td>\n",
       "      <td>...</td>\n",
       "      <td>...</td>\n",
       "      <td>...</td>\n",
       "      <td>...</td>\n",
       "      <td>...</td>\n",
       "      <td>...</td>\n",
       "      <td>...</td>\n",
       "      <td>...</td>\n",
       "      <td>...</td>\n",
       "      <td>...</td>\n",
       "    </tr>\n",
       "    <tr>\n",
       "      <th>715</th>\n",
       "      <td>2020</td>\n",
       "      <td>Zenit Saint Petersburg</td>\n",
       "      <td>6</td>\n",
       "      <td>2</td>\n",
       "      <td>1</td>\n",
       "      <td>3</td>\n",
       "      <td>7</td>\n",
       "      <td>9</td>\n",
       "      <td>-2</td>\n",
       "      <td>7</td>\n",
       "      <td>0</td>\n",
       "      <td>33.333333</td>\n",
       "    </tr>\n",
       "    <tr>\n",
       "      <th>716</th>\n",
       "      <td>2020</td>\n",
       "      <td>Valencia</td>\n",
       "      <td>8</td>\n",
       "      <td>3</td>\n",
       "      <td>2</td>\n",
       "      <td>3</td>\n",
       "      <td>13</td>\n",
       "      <td>15</td>\n",
       "      <td>-2</td>\n",
       "      <td>11</td>\n",
       "      <td>0</td>\n",
       "      <td>37.500000</td>\n",
       "    </tr>\n",
       "    <tr>\n",
       "      <th>717</th>\n",
       "      <td>2020</td>\n",
       "      <td>Chelsea</td>\n",
       "      <td>8</td>\n",
       "      <td>3</td>\n",
       "      <td>2</td>\n",
       "      <td>3</td>\n",
       "      <td>12</td>\n",
       "      <td>16</td>\n",
       "      <td>-4</td>\n",
       "      <td>11</td>\n",
       "      <td>0</td>\n",
       "      <td>37.500000</td>\n",
       "    </tr>\n",
       "    <tr>\n",
       "      <th>718</th>\n",
       "      <td>2020</td>\n",
       "      <td>Ajax</td>\n",
       "      <td>6</td>\n",
       "      <td>3</td>\n",
       "      <td>1</td>\n",
       "      <td>2</td>\n",
       "      <td>12</td>\n",
       "      <td>6</td>\n",
       "      <td>6</td>\n",
       "      <td>10</td>\n",
       "      <td>0</td>\n",
       "      <td>50.000000</td>\n",
       "    </tr>\n",
       "    <tr>\n",
       "      <th>719</th>\n",
       "      <td>2020</td>\n",
       "      <td>Lille</td>\n",
       "      <td>6</td>\n",
       "      <td>0</td>\n",
       "      <td>1</td>\n",
       "      <td>5</td>\n",
       "      <td>4</td>\n",
       "      <td>14</td>\n",
       "      <td>-10</td>\n",
       "      <td>1</td>\n",
       "      <td>0</td>\n",
       "      <td>0.000000</td>\n",
       "    </tr>\n",
       "  </tbody>\n",
       "</table>\n",
       "<p>720 rows × 12 columns</p>\n",
       "</div>"
      ],
      "text/plain": [
       "     year                    team  match_played  wins  draws  losts  \\\n",
       "0    1993               Marseille             6     3      3      0   \n",
       "1    1993                   Milan             7     6      0      1   \n",
       "2    1993                 Rangers             6     2      4      0   \n",
       "3    1993             Club Brugge             6     2      1      3   \n",
       "4    1993             CSKA Moscow             6     0      2      4   \n",
       "..    ...                     ...           ...   ...    ...    ...   \n",
       "715  2020  Zenit Saint Petersburg             6     2      1      3   \n",
       "716  2020                Valencia             8     3      2      3   \n",
       "717  2020                 Chelsea             8     3      2      3   \n",
       "718  2020                    Ajax             6     3      1      2   \n",
       "719  2020                   Lille             6     0      1      5   \n",
       "\n",
       "     goals_scored  goals_conceded  gd  group_point  champions  win_percent  \n",
       "0              14               4  10            9          1    50.000000  \n",
       "1              11               2   9           12          0    85.714286  \n",
       "2               7               5   2            8          0    33.333333  \n",
       "3               5               8  -3            5          0    33.333333  \n",
       "4               2              11  -9            2          0     0.000000  \n",
       "..            ...             ...  ..          ...        ...          ...  \n",
       "715             7               9  -2            7          0    33.333333  \n",
       "716            13              15  -2           11          0    37.500000  \n",
       "717            12              16  -4           11          0    37.500000  \n",
       "718            12               6   6           10          0    50.000000  \n",
       "719             4              14 -10            1          0     0.000000  \n",
       "\n",
       "[720 rows x 12 columns]"
      ]
     },
     "execution_count": 16,
     "metadata": {},
     "output_type": "execute_result"
    }
   ],
   "source": [
    "#Adding and extra column for win percentage\n",
    "stats_raw_df['win_percent'] = (stats_raw_df['wins']/stats_raw_df['match_played'])*100\n",
    "stats_raw_df"
   ]
  },
  {
   "cell_type": "code",
   "execution_count": 18,
   "metadata": {},
   "outputs": [],
   "source": [
    "#Creating a new dataframe now that the raw data has been processed\n",
    "stats_df = stats_raw_df"
   ]
  },
  {
   "cell_type": "code",
   "execution_count": 19,
   "metadata": {},
   "outputs": [
    {
     "data": {
      "text/plain": [
       "(28, 12)"
      ]
     },
     "execution_count": 19,
     "metadata": {},
     "output_type": "execute_result"
    }
   ],
   "source": [
    "#Creating a new dataframe for the champions\n",
    "champs_df = stats_df[stats_df['champions'] == 1]\n",
    "champs_df.shape"
   ]
  },
  {
   "cell_type": "code",
   "execution_count": 20,
   "metadata": {},
   "outputs": [],
   "source": [
    "import jovian"
   ]
  },
  {
   "cell_type": "code",
   "execution_count": 21,
   "metadata": {},
   "outputs": [
    {
     "data": {
      "application/javascript": [
       "window.require && require([\"base/js/namespace\"],function(Jupyter){Jupyter.notebook.save_checkpoint()})"
      ],
      "text/plain": [
       "<IPython.core.display.Javascript object>"
      ]
     },
     "metadata": {},
     "output_type": "display_data"
    },
    {
     "name": "stdout",
     "output_type": "stream",
     "text": [
      "[jovian] Updating notebook \"patswap/zerotopandas-course-project-ucl-stats\" on https://jovian.ai\u001b[0m\n",
      "[jovian] Committed successfully! https://jovian.ai/patswap/zerotopandas-course-project-ucl-stats\u001b[0m\n"
     ]
    },
    {
     "data": {
      "text/plain": [
       "'https://jovian.ai/patswap/zerotopandas-course-project-ucl-stats'"
      ]
     },
     "execution_count": 21,
     "metadata": {},
     "output_type": "execute_result"
    }
   ],
   "source": [
    "jovian.commit()"
   ]
  },
  {
   "cell_type": "markdown",
   "metadata": {},
   "source": [
    "## Exploratory Analysis and Visualization\n",
    "\n",
    "**HEART OF THE MATTER** - Now that we have imported the data into a dataframe, checked it for missing values or discrpancies and done with the little modifications, we are good to go and pursue some actual analysis. "
   ]
  },
  {
   "cell_type": "markdown",
   "metadata": {},
   "source": [
    "Let's begin by importing`matplotlib.pyplot` and `seaborn`."
   ]
  },
  {
   "cell_type": "code",
   "execution_count": 22,
   "metadata": {},
   "outputs": [],
   "source": [
    "import seaborn as sns\n",
    "import matplotlib\n",
    "import matplotlib.pyplot as plt\n",
    "%matplotlib inline\n",
    "\n",
    "sns.set_style('darkgrid')\n",
    "matplotlib.rcParams['font.size'] = 14\n",
    "matplotlib.rcParams['figure.figsize'] = (9, 5)\n",
    "matplotlib.rcParams['figure.facecolor'] = '#00000000'"
   ]
  },
  {
   "cell_type": "markdown",
   "metadata": {},
   "source": [
    "**STEP 1** - Let's check the number of teams that have participated in the tournament every year"
   ]
  },
  {
   "cell_type": "code",
   "execution_count": 23,
   "metadata": {},
   "outputs": [
    {
     "data": {
      "image/png": "[encoded data removed]",
      "text/plain": [
       "<Figure size 648x360 with 1 Axes>"
      ]
     },
     "metadata": {
      "needs_background": "light"
     },
     "output_type": "display_data"
    }
   ],
   "source": [
    "#Number of participating teams every year\n",
    "sns.histplot(data = stats_df,\n",
    "                x = 'year',\n",
    "             bins = 28,\n",
    "            color = 'green');"
   ]
  },
  {
   "cell_type": "markdown",
   "metadata": {},
   "source": [
    "*It's evident that the number of participating teams has increased steadily over the years as a general trend and has flattened post 2005, going from mere 8 in 1993 to 32 in 2020.*"
   ]
  },
  {
   "cell_type": "markdown",
   "metadata": {},
   "source": [
    "**STEP 2** - Let's now check if the number of goals shows a seimilar year-wise trend over the entire span of 28 years as that of the number of participating teams"
   ]
  },
  {
   "cell_type": "code",
   "execution_count": 201,
   "metadata": {},
   "outputs": [
    {
     "data": {
      "image/png": "[encoded data removed]",
      "text/plain": [
       "<Figure size 648x360 with 1 Axes>"
      ]
     },
     "metadata": {
      "needs_background": "light"
     },
     "output_type": "display_data"
    }
   ],
   "source": [
    "goals_plt = sns.barplot(data = stats_df,\n",
    "               x = 'year',\n",
    "               y = 'goals_scored',\n",
    "       estimator = sum,\n",
    "              ci = 0);\n",
    "plt.xticks(rotation =90);"
   ]
  },
  {
   "cell_type": "markdown",
   "metadata": {},
   "source": [
    "*Thus, we can observe that the trend in goals scored follows the number of teams barring the point that the increase continues beyond 2007, albiet marginally while the the number of teams did not increase in that time period*"
   ]
  },
  {
   "cell_type": "markdown",
   "metadata": {},
   "source": [
    "**STEP 3** - Let's now have a look at the teams that have been crowned champions"
   ]
  },
  {
   "cell_type": "code",
   "execution_count": 167,
   "metadata": {},
   "outputs": [
    {
     "data": {
      "text/html": [
       "<div>\n",
       "<style scoped>\n",
       "    .dataframe tbody tr th:only-of-type {\n",
       "        vertical-align: middle;\n",
       "    }\n",
       "\n",
       "    .dataframe tbody tr th {\n",
       "        vertical-align: top;\n",
       "    }\n",
       "\n",
       "    .dataframe thead th {\n",
       "        text-align: right;\n",
       "    }\n",
       "</style>\n",
       "<table border=\"1\" class=\"dataframe\">\n",
       "  <thead>\n",
       "    <tr style=\"text-align: right;\">\n",
       "      <th></th>\n",
       "      <th>match_played</th>\n",
       "      <th>wins</th>\n",
       "      <th>draws</th>\n",
       "      <th>losts</th>\n",
       "      <th>goals_scored</th>\n",
       "      <th>goals_conceded</th>\n",
       "      <th>gd</th>\n",
       "      <th>group_point</th>\n",
       "      <th>champions</th>\n",
       "      <th>win_percent</th>\n",
       "      <th>matches_not_won</th>\n",
       "    </tr>\n",
       "    <tr>\n",
       "      <th>team</th>\n",
       "      <th></th>\n",
       "      <th></th>\n",
       "      <th></th>\n",
       "      <th></th>\n",
       "      <th></th>\n",
       "      <th></th>\n",
       "      <th></th>\n",
       "      <th></th>\n",
       "      <th></th>\n",
       "      <th></th>\n",
       "      <th></th>\n",
       "    </tr>\n",
       "  </thead>\n",
       "  <tbody>\n",
       "    <tr>\n",
       "      <th>Ajax</th>\n",
       "      <td>114</td>\n",
       "      <td>46</td>\n",
       "      <td>31</td>\n",
       "      <td>37</td>\n",
       "      <td>157</td>\n",
       "      <td>129</td>\n",
       "      <td>28</td>\n",
       "      <td>128</td>\n",
       "      <td>1</td>\n",
       "      <td>40.350877</td>\n",
       "      <td>68</td>\n",
       "    </tr>\n",
       "    <tr>\n",
       "      <th>Barcelona</th>\n",
       "      <td>227</td>\n",
       "      <td>136</td>\n",
       "      <td>57</td>\n",
       "      <td>40</td>\n",
       "      <td>458</td>\n",
       "      <td>226</td>\n",
       "      <td>232</td>\n",
       "      <td>287</td>\n",
       "      <td>4</td>\n",
       "      <td>59.911894</td>\n",
       "      <td>91</td>\n",
       "    </tr>\n",
       "    <tr>\n",
       "      <th>Bayern Munich</th>\n",
       "      <td>227</td>\n",
       "      <td>133</td>\n",
       "      <td>43</td>\n",
       "      <td>51</td>\n",
       "      <td>463</td>\n",
       "      <td>233</td>\n",
       "      <td>225</td>\n",
       "      <td>280</td>\n",
       "      <td>3</td>\n",
       "      <td>58.590308</td>\n",
       "      <td>94</td>\n",
       "    </tr>\n",
       "    <tr>\n",
       "      <th>Borussia Dortmund</th>\n",
       "      <td>104</td>\n",
       "      <td>51</td>\n",
       "      <td>19</td>\n",
       "      <td>33</td>\n",
       "      <td>171</td>\n",
       "      <td>123</td>\n",
       "      <td>48</td>\n",
       "      <td>129</td>\n",
       "      <td>1</td>\n",
       "      <td>49.038462</td>\n",
       "      <td>53</td>\n",
       "    </tr>\n",
       "    <tr>\n",
       "      <th>Chelsea</th>\n",
       "      <td>157</td>\n",
       "      <td>77</td>\n",
       "      <td>45</td>\n",
       "      <td>36</td>\n",
       "      <td>270</td>\n",
       "      <td>156</td>\n",
       "      <td>114</td>\n",
       "      <td>194</td>\n",
       "      <td>1</td>\n",
       "      <td>49.044586</td>\n",
       "      <td>80</td>\n",
       "    </tr>\n",
       "    <tr>\n",
       "      <th>Internazionale</th>\n",
       "      <td>99</td>\n",
       "      <td>47</td>\n",
       "      <td>24</td>\n",
       "      <td>28</td>\n",
       "      <td>136</td>\n",
       "      <td>110</td>\n",
       "      <td>32</td>\n",
       "      <td>121</td>\n",
       "      <td>1</td>\n",
       "      <td>47.474747</td>\n",
       "      <td>52</td>\n",
       "    </tr>\n",
       "    <tr>\n",
       "      <th>Juventus</th>\n",
       "      <td>170</td>\n",
       "      <td>87</td>\n",
       "      <td>39</td>\n",
       "      <td>43</td>\n",
       "      <td>264</td>\n",
       "      <td>161</td>\n",
       "      <td>100</td>\n",
       "      <td>211</td>\n",
       "      <td>1</td>\n",
       "      <td>51.176471</td>\n",
       "      <td>83</td>\n",
       "    </tr>\n",
       "    <tr>\n",
       "      <th>Liverpool</th>\n",
       "      <td>110</td>\n",
       "      <td>55</td>\n",
       "      <td>27</td>\n",
       "      <td>28</td>\n",
       "      <td>190</td>\n",
       "      <td>112</td>\n",
       "      <td>77</td>\n",
       "      <td>112</td>\n",
       "      <td>2</td>\n",
       "      <td>50.000000</td>\n",
       "      <td>55</td>\n",
       "    </tr>\n",
       "    <tr>\n",
       "      <th>Manchester United</th>\n",
       "      <td>200</td>\n",
       "      <td>103</td>\n",
       "      <td>54</td>\n",
       "      <td>43</td>\n",
       "      <td>327</td>\n",
       "      <td>185</td>\n",
       "      <td>142</td>\n",
       "      <td>255</td>\n",
       "      <td>2</td>\n",
       "      <td>51.500000</td>\n",
       "      <td>97</td>\n",
       "    </tr>\n",
       "    <tr>\n",
       "      <th>Marseille</th>\n",
       "      <td>60</td>\n",
       "      <td>18</td>\n",
       "      <td>10</td>\n",
       "      <td>32</td>\n",
       "      <td>73</td>\n",
       "      <td>81</td>\n",
       "      <td>-8</td>\n",
       "      <td>46</td>\n",
       "      <td>1</td>\n",
       "      <td>30.000000</td>\n",
       "      <td>42</td>\n",
       "    </tr>\n",
       "    <tr>\n",
       "      <th>Milan</th>\n",
       "      <td>147</td>\n",
       "      <td>63</td>\n",
       "      <td>44</td>\n",
       "      <td>37</td>\n",
       "      <td>201</td>\n",
       "      <td>136</td>\n",
       "      <td>63</td>\n",
       "      <td>151</td>\n",
       "      <td>3</td>\n",
       "      <td>42.857143</td>\n",
       "      <td>84</td>\n",
       "    </tr>\n",
       "    <tr>\n",
       "      <th>Porto</th>\n",
       "      <td>170</td>\n",
       "      <td>71</td>\n",
       "      <td>44</td>\n",
       "      <td>55</td>\n",
       "      <td>232</td>\n",
       "      <td>204</td>\n",
       "      <td>27</td>\n",
       "      <td>212</td>\n",
       "      <td>1</td>\n",
       "      <td>41.764706</td>\n",
       "      <td>99</td>\n",
       "    </tr>\n",
       "    <tr>\n",
       "      <th>Real Madrid</th>\n",
       "      <td>243</td>\n",
       "      <td>145</td>\n",
       "      <td>45</td>\n",
       "      <td>53</td>\n",
       "      <td>509</td>\n",
       "      <td>266</td>\n",
       "      <td>241</td>\n",
       "      <td>310</td>\n",
       "      <td>7</td>\n",
       "      <td>59.670782</td>\n",
       "      <td>98</td>\n",
       "    </tr>\n",
       "  </tbody>\n",
       "</table>\n",
       "</div>"
      ],
      "text/plain": [
       "                   match_played  wins  draws  losts  goals_scored  \\\n",
       "team                                                                \n",
       "Ajax                        114    46     31     37           157   \n",
       "Barcelona                   227   136     57     40           458   \n",
       "Bayern Munich               227   133     43     51           463   \n",
       "Borussia Dortmund           104    51     19     33           171   \n",
       "Chelsea                     157    77     45     36           270   \n",
       "Internazionale               99    47     24     28           136   \n",
       "Juventus                    170    87     39     43           264   \n",
       "Liverpool                   110    55     27     28           190   \n",
       "Manchester United           200   103     54     43           327   \n",
       "Marseille                    60    18     10     32            73   \n",
       "Milan                       147    63     44     37           201   \n",
       "Porto                       170    71     44     55           232   \n",
       "Real Madrid                 243   145     45     53           509   \n",
       "\n",
       "                   goals_conceded   gd  group_point  champions  win_percent  \\\n",
       "team                                                                          \n",
       "Ajax                          129   28          128          1    40.350877   \n",
       "Barcelona                     226  232          287          4    59.911894   \n",
       "Bayern Munich                 233  225          280          3    58.590308   \n",
       "Borussia Dortmund             123   48          129          1    49.038462   \n",
       "Chelsea                       156  114          194          1    49.044586   \n",
       "Internazionale                110   32          121          1    47.474747   \n",
       "Juventus                      161  100          211          1    51.176471   \n",
       "Liverpool                     112   77          112          2    50.000000   \n",
       "Manchester United             185  142          255          2    51.500000   \n",
       "Marseille                      81   -8           46          1    30.000000   \n",
       "Milan                         136   63          151          3    42.857143   \n",
       "Porto                         204   27          212          1    41.764706   \n",
       "Real Madrid                   266  241          310          7    59.670782   \n",
       "\n",
       "                   matches_not_won  \n",
       "team                                \n",
       "Ajax                            68  \n",
       "Barcelona                       91  \n",
       "Bayern Munich                   94  \n",
       "Borussia Dortmund               53  \n",
       "Chelsea                         80  \n",
       "Internazionale                  52  \n",
       "Juventus                        83  \n",
       "Liverpool                       55  \n",
       "Manchester United               97  \n",
       "Marseille                       42  \n",
       "Milan                           84  \n",
       "Porto                           99  \n",
       "Real Madrid                     98  "
      ]
     },
     "execution_count": 167,
     "metadata": {},
     "output_type": "execute_result"
    }
   ],
   "source": [
    "champs_arr = champs_df['team'].unique().tolist()\n",
    "champions_arr2 = stats_df['team'].isin(champs_arr)\n",
    "champions = stats_df[champions_arr2]\n",
    "\n",
    "champions_cum = champions.groupby(['team']).sum()\n",
    "champions_cum['win_percent'] = champions_cum['wins']*100/champions_cum['match_played']\n",
    "champions_cum = champions_cum.drop(['year'], axis = 1)\n",
    "\n",
    "champions_top6 = champions_cum.sort_values(['champions'], ascending = False).head(6)\n",
    "champions_cum\n"
   ]
  },
  {
   "cell_type": "code",
   "execution_count": 127,
   "metadata": {
    "scrolled": true
   },
   "outputs": [
    {
     "data": {
      "image/png": "[encoded data removed]",
      "text/plain": [
       "<Figure size 648x648 with 1 Axes>"
      ]
     },
     "metadata": {},
     "output_type": "display_data"
    }
   ],
   "source": [
    "pie1 = champions_cum.plot.pie(y = 'champions', figsize = (9,9));\n",
    "plt.legend(loc='best', bbox_to_anchor=(0.5, 0., 1, 0.5));\n",
    "pie1.set_title('Teams with total championships');"
   ]
  },
  {
   "cell_type": "markdown",
   "metadata": {},
   "source": [
    "*Here we learn that only 4 teams have won the UCL more than thrice, with Real Madrid topping the chart with a record 7-UCL-era titles*"
   ]
  },
  {
   "cell_type": "markdown",
   "metadata": {},
   "source": [
    "**STEP 4** - Let's check out how the Top 6 champion teams have performed over the years"
   ]
  },
  {
   "cell_type": "code",
   "execution_count": 200,
   "metadata": {
    "scrolled": true
   },
   "outputs": [
    {
     "data": {
      "image/png": "[encoded data removed]",
      "text/plain": [
       "<Figure size 648x360 with 1 Axes>"
      ]
     },
     "metadata": {
      "needs_background": "light"
     },
     "output_type": "display_data"
    }
   ],
   "source": [
    "win_percent_plt = sns.scatterplot(data = champions_top6,\n",
    "                  x  = 'win_percent',\n",
    "                  y  = 'group_point',\n",
    "               hue   = 'team');\n"
   ]
  },
  {
   "cell_type": "markdown",
   "metadata": {},
   "source": [
    "*Thus,Milan have the lowest win percentage in the top 6 while Liverpool have earned the lowest group points. Real Madrid and Barcelona, on the other hand the tallies*"
   ]
  },
  {
   "cell_type": "markdown",
   "metadata": {},
   "source": [
    "**STEP 5** - Let us now see how the champion teams have scored over the years."
   ]
  },
  {
   "cell_type": "code",
   "execution_count": 41,
   "metadata": {
    "scrolled": true
   },
   "outputs": [
    {
     "data": {
      "image/png": "[encoded data removed]",
      "text/plain": [
       "<Figure size 648x360 with 2 Axes>"
      ]
     },
     "metadata": {
      "needs_background": "light"
     },
     "output_type": "display_data"
    }
   ],
   "source": [
    "yearwise_df = champions.pivot('team','year','goals_scored')\n",
    "hm1 = sns.heatmap(yearwise_df, cmap= 'YlGnBu');\n"
   ]
  },
  {
   "cell_type": "markdown",
   "metadata": {},
   "source": [
    "*We can thus infer that the number of goals per season have more or less increased over the years. Real Madrid, Barcelona and Bayern Munich have been the most consistent of the lot*"
   ]
  },
  {
   "cell_type": "markdown",
   "metadata": {},
   "source": [
    "Let us save and upload our work to Jovian before continuing"
   ]
  },
  {
   "cell_type": "code",
   "execution_count": 42,
   "metadata": {},
   "outputs": [],
   "source": [
    "import jovian"
   ]
  },
  {
   "cell_type": "code",
   "execution_count": 43,
   "metadata": {},
   "outputs": [
    {
     "data": {
      "application/javascript": [
       "window.require && require([\"base/js/namespace\"],function(Jupyter){Jupyter.notebook.save_checkpoint()})"
      ],
      "text/plain": [
       "<IPython.core.display.Javascript object>"
      ]
     },
     "metadata": {},
     "output_type": "display_data"
    },
    {
     "name": "stdout",
     "output_type": "stream",
     "text": [
      "[jovian] Updating notebook \"patswap/zerotopandas-course-project-ucl-stats\" on https://jovian.ai\u001b[0m\n",
      "[jovian] Committed successfully! https://jovian.ai/patswap/zerotopandas-course-project-ucl-stats\u001b[0m\n"
     ]
    },
    {
     "data": {
      "text/plain": [
       "'https://jovian.ai/patswap/zerotopandas-course-project-ucl-stats'"
      ]
     },
     "execution_count": 43,
     "metadata": {},
     "output_type": "execute_result"
    }
   ],
   "source": [
    "jovian.commit()"
   ]
  },
  {
   "cell_type": "markdown",
   "metadata": {},
   "source": [
    "## Asking and Answering Questions\n",
    "\n",
    "Now that we have visualised the data and made some observations, it is time to pose some questions that let us understand the trends in data and help us draw some inferences\n",
    "\n"
   ]
  },
  {
   "cell_type": "markdown",
   "metadata": {},
   "source": [
    "#### Q1: Are the number of goals scored indicative of a title win?"
   ]
  },
  {
   "cell_type": "code",
   "execution_count": 126,
   "metadata": {},
   "outputs": [],
   "source": [
    "max_points = stats_df.groupby('year')['group_point'].max()\n",
    "champ_points_df = champs_df[['year','group_point']]\n",
    "champ_points = champ_points_df.iloc[:,1]\n",
    "year_points = champ_points_df.iloc[:,0]\n"
   ]
  },
  {
   "cell_type": "code",
   "execution_count": 193,
   "metadata": {},
   "outputs": [
    {
     "data": {
      "image/png": "[encoded data removed]",
      "text/plain": [
       "<Figure size 648x360 with 1 Axes>"
      ]
     },
     "metadata": {
      "needs_background": "light"
     },
     "output_type": "display_data"
    }
   ],
   "source": [
    "  \n",
    "max_plt = plt.bar(year_points - 0.2, max_points, 0.4, label = 'Max Points')\n",
    "champ_plt = plt.bar(year_points + 0.2, champ_points, 0.4, label = \"Champions' Points\")\n",
    "\n",
    "X_axis = np.arange(len(year_points))\n",
    "\n",
    "plt.xticks(year_points, rotation=90)\n",
    "plt.xlabel(\"Years\")\n",
    "plt.ylabel(\"Number of Points\")\n",
    "plt.title(\"Number of Group Points Each Year\")\n",
    "plt.legend()\n",
    "plt.show()\n"
   ]
  },
  {
   "cell_type": "markdown",
   "metadata": {},
   "source": [
    "**Answer 1**: The champions have mostly scored less points than the maximum points that season, hence it is not an indication of a title win"
   ]
  },
  {
   "cell_type": "markdown",
   "metadata": {},
   "source": [
    "#### Q2: How much does a team's defence impact its chances of being crowned the champions?"
   ]
  },
  {
   "cell_type": "code",
   "execution_count": 139,
   "metadata": {},
   "outputs": [],
   "source": [
    "least_goals = stats_df.groupby('year')['goals_conceded'].min()\n",
    "champ_def = champs_df[['year','goals_conceded']]\n",
    "champ_defence = champ_def.iloc[:,1]\n",
    "year_points_def = champ_def.iloc[:,0]\n"
   ]
  },
  {
   "cell_type": "code",
   "execution_count": 192,
   "metadata": {},
   "outputs": [
    {
     "data": {
      "image/png": "[encoded data removed]",
      "text/plain": [
       "<Figure size 648x360 with 1 Axes>"
      ]
     },
     "metadata": {
      "needs_background": "light"
     },
     "output_type": "display_data"
    }
   ],
   "source": [
    "least_goals_plt = plt.bar(year_points_def - 0.2, least_goals, 0.4, label = 'Least Goals')\n",
    "plt.bar(year_points_def + 0.2, champ_defence, 0.4, label = \"Champions' Goals Conceded\")\n",
    "\n",
    "X_axis = np.arange(len(year_points_def))\n",
    "\n",
    "plt.xticks(year_points_def, rotation=90)\n",
    "plt.xlabel(\"Years\")\n",
    "plt.ylabel(\"Number of Goals\")\n",
    "plt.title(\"Number of Goals Conceded\")\n",
    "plt.legend()\n",
    "plt.show()\n"
   ]
  },
  {
   "cell_type": "markdown",
   "metadata": {},
   "source": [
    "**Answer 2**: The second hypothesis falls through as the title winners had the least conceded goals only thrice."
   ]
  },
  {
   "cell_type": "markdown",
   "metadata": {},
   "source": [
    "#### Q3: Which teams have the highest win percentage in the UCL?"
   ]
  },
  {
   "cell_type": "code",
   "execution_count": 191,
   "metadata": {},
   "outputs": [
    {
     "data": {
      "image/png": "[encoded data removed]",
      "text/plain": [
       "<Figure size 648x360 with 1 Axes>"
      ]
     },
     "metadata": {
      "needs_background": "light"
     },
     "output_type": "display_data"
    }
   ],
   "source": [
    "win_per_df = stats_df.sort_values('win_percent', ascending = False).head(5)\n",
    "\n",
    "wins_plt = sns.barplot(\n",
    "            data = win_per_df,\n",
    "               x = 'team',\n",
    "               y = 'win_percent',\n",
    "              ci = 0);\n",
    "plt.xticks(rotation =90);\n",
    "plt.xlabel('Team Name');\n",
    "plt.ylabel('Percentage of wins');\n",
    "plt.title('Top teams with the highest win percentage in a season');"
   ]
  },
  {
   "cell_type": "markdown",
   "metadata": {},
   "source": [
    "**Answer 3**: Thus, we now have the list of teams with the highest win percentage in a season"
   ]
  },
  {
   "cell_type": "markdown",
   "metadata": {},
   "source": [
    "#### Q4: How often does a title winner lose in a campaign?"
   ]
  },
  {
   "cell_type": "code",
   "execution_count": 189,
   "metadata": {
    "scrolled": true
   },
   "outputs": [
    {
     "data": {
      "image/png": "[encoded data removed]",
      "text/plain": [
       "<Figure size 648x360 with 1 Axes>"
      ]
     },
     "metadata": {
      "needs_background": "light"
     },
     "output_type": "display_data"
    }
   ],
   "source": [
    "lose_plt = sns.barplot(data = champs_df,\n",
    "                          x = 'year',\n",
    "                          y = 'losts',\n",
    "                         ci = 0);\n",
    "plt.xticks(rotation =90);\n",
    "plt.xlabel('Year');\n",
    "plt.ylabel('Matches Lost');\n",
    "plt.title('Matches lost by Champion Teams');"
   ]
  },
  {
   "cell_type": "code",
   "execution_count": 164,
   "metadata": {},
   "outputs": [
    {
     "data": {
      "text/plain": [
       "1.0"
      ]
     },
     "execution_count": 164,
     "metadata": {},
     "output_type": "execute_result"
    }
   ],
   "source": [
    "champs_df['losts'].median()"
   ]
  },
  {
   "cell_type": "markdown",
   "metadata": {},
   "source": [
    "**Answer 4**: The median games a champion team has lost in a season is 1. On six occassions, the champions have not lost any matches at all. Hence, Matches lost is a good indicator of a title win."
   ]
  },
  {
   "cell_type": "markdown",
   "metadata": {},
   "source": [
    "#### Q5: What are the most successful teams in the group stages?"
   ]
  },
  {
   "cell_type": "code",
   "execution_count": 187,
   "metadata": {},
   "outputs": [
    {
     "data": {
      "text/plain": [
       "team\n",
       "Real Madrid          1.275720\n",
       "Manchester United    1.275000\n",
       "Barcelona            1.264317\n",
       "Porto                1.247059\n",
       "Juventus             1.241176\n",
       "Borussia Dortmund    1.240385\n",
       "Chelsea              1.235669\n",
       "Bayern Munich        1.233480\n",
       "Internazionale       1.222222\n",
       "Ajax                 1.122807\n",
       "Milan                1.027211\n",
       "Liverpool            1.018182\n",
       "Marseille            0.766667\n",
       "Name: points_per_game, dtype: float64"
      ]
     },
     "execution_count": 187,
     "metadata": {},
     "output_type": "execute_result"
    }
   ],
   "source": [
    "champions_cum['points_per_game'] = champions_cum['group_point']/champions_cum['match_played']\n",
    "champions_cum = champions_cum.sort_values('points_per_game', ascending = False)\n",
    "champions_cum['points_per_game']"
   ]
  },
  {
   "cell_type": "code",
   "execution_count": 188,
   "metadata": {},
   "outputs": [
    {
     "data": {
      "image/png": "[encoded data removed]",
      "text/plain": [
       "<Figure size 648x360 with 1 Axes>"
      ]
     },
     "metadata": {
      "needs_background": "light"
     },
     "output_type": "display_data"
    }
   ],
   "source": [
    "grp = sns.barplot(x = champions_cum.index, y = champions_cum['points_per_game']);\n",
    "plt.xticks(rotation = 90);"
   ]
  },
  {
   "cell_type": "markdown",
   "metadata": {},
   "source": [
    "**Answer 5**: Real Madrid, Manchester United and Barcelona have been the top 3 most consistent teams in the UCL Group stages"
   ]
  },
  {
   "cell_type": "markdown",
   "metadata": {},
   "source": [
    "Let us save and upload our work to Jovian before continuing."
   ]
  },
  {
   "cell_type": "code",
   "execution_count": 194,
   "metadata": {},
   "outputs": [],
   "source": [
    "import jovian"
   ]
  },
  {
   "cell_type": "code",
   "execution_count": 195,
   "metadata": {},
   "outputs": [
    {
     "data": {
      "application/javascript": [
       "window.require && require([\"base/js/namespace\"],function(Jupyter){Jupyter.notebook.save_checkpoint()})"
      ],
      "text/plain": [
       "<IPython.core.display.Javascript object>"
      ]
     },
     "metadata": {},
     "output_type": "display_data"
    },
    {
     "name": "stdout",
     "output_type": "stream",
     "text": [
      "[jovian] Updating notebook \"patswap/zerotopandas-course-project-ucl-stats\" on https://jovian.ai\u001b[0m\n",
      "[jovian] Committed successfully! https://jovian.ai/patswap/zerotopandas-course-project-ucl-stats\u001b[0m\n"
     ]
    },
    {
     "data": {
      "text/plain": [
       "'https://jovian.ai/patswap/zerotopandas-course-project-ucl-stats'"
      ]
     },
     "execution_count": 195,
     "metadata": {},
     "output_type": "execute_result"
    }
   ],
   "source": [
    "jovian.commit()"
   ]
  },
  {
   "cell_type": "markdown",
   "metadata": {},
   "source": [
    "## Inferences and Conclusion\n",
    "\n",
    "**What We Learned** - Through this analysis, we can now infer that:\n",
    "1. The competition has flourished over the years in terms of number of teams and number of goals scored\n",
    "2. Real Madrid, Barcelona, Bayern Munich, Manchester United, Milan and Liverpool have been the top 6 teams in the UCL era\n",
    "3. The number of goals scored in a season may not necessarily be an indicator of the team's title win chances. However, champion teams do lose one game on average in a season\n",
    "4. Bayern Munich have had the most successful season winning all of their games in the 2020 season.\n",
    "5. Real Madrid are the team with the highest number of titles (7) followed by Barcelona (4) and Bayern Munich (3)"
   ]
  },
  {
   "cell_type": "code",
   "execution_count": 196,
   "metadata": {},
   "outputs": [],
   "source": [
    "import jovian"
   ]
  },
  {
   "cell_type": "code",
   "execution_count": 197,
   "metadata": {},
   "outputs": [
    {
     "data": {
      "application/javascript": [
       "window.require && require([\"base/js/namespace\"],function(Jupyter){Jupyter.notebook.save_checkpoint()})"
      ],
      "text/plain": [
       "<IPython.core.display.Javascript object>"
      ]
     },
     "metadata": {},
     "output_type": "display_data"
    },
    {
     "name": "stdout",
     "output_type": "stream",
     "text": [
      "[jovian] Updating notebook \"patswap/zerotopandas-course-project-ucl-stats\" on https://jovian.ai\u001b[0m\n",
      "[jovian] Committed successfully! https://jovian.ai/patswap/zerotopandas-course-project-ucl-stats\u001b[0m\n"
     ]
    },
    {
     "data": {
      "text/plain": [
       "'https://jovian.ai/patswap/zerotopandas-course-project-ucl-stats'"
      ]
     },
     "execution_count": 197,
     "metadata": {},
     "output_type": "execute_result"
    }
   ],
   "source": [
    "jovian.commit()"
   ]
  },
  {
   "cell_type": "markdown",
   "metadata": {},
   "source": [
    "## References and Future Work\n",
    "\n",
    "**References** :\n",
    "1. https://pandas.pydata.org/pandas-docs/stable/reference/api/pandas.DataFrame.plot.bar.html\n",
    "2. https://www.geeksforgeeks.org/seaborn-barplot-method-in-python/\n",
    "3. https://pandas.pydata.org/pandas-docs/stable/reference/api/pandas.DataFrame.groupby.html\n",
    "4. https://www.w3schools.com/python/matplotlib_pie_charts.asp\n",
    "\n",
    "**Future Work** : This data can be used to create a title prediction machine learning model. The author also attempts data analysis here: https://www.kaggle.com/bakar31/ucl-stats-analysis"
   ]
  },
  {
   "cell_type": "code",
   "execution_count": 198,
   "metadata": {},
   "outputs": [],
   "source": [
    "import jovian"
   ]
  },
  {
   "cell_type": "code",
   "execution_count": 199,
   "metadata": {
    "scrolled": true
   },
   "outputs": [
    {
     "data": {
      "application/javascript": [
       "window.require && require([\"base/js/namespace\"],function(Jupyter){Jupyter.notebook.save_checkpoint()})"
      ],
      "text/plain": [
       "<IPython.core.display.Javascript object>"
      ]
     },
     "metadata": {},
     "output_type": "display_data"
    },
    {
     "name": "stdout",
     "output_type": "stream",
     "text": [
      "[jovian] Updating notebook \"patswap/zerotopandas-course-project-ucl-stats\" on https://jovian.ai\u001b[0m\n",
      "[jovian] Committed successfully! https://jovian.ai/patswap/zerotopandas-course-project-ucl-stats\u001b[0m\n"
     ]
    },
    {
     "data": {
      "text/plain": [
       "'https://jovian.ai/patswap/zerotopandas-course-project-ucl-stats'"
      ]
     },
     "execution_count": 199,
     "metadata": {},
     "output_type": "execute_result"
    }
   ],
   "source": [
    "jovian.commit()"
   ]
  },
  {
   "cell_type": "code",
   "execution_count": null,
   "metadata": {},
   "outputs": [],
   "source": []
  }
 ],
 "metadata": {
  "language_info": {
   "codemirror_mode": {
    "name": "ipython",
    "version": 3
   },
   "file_extension": ".py",
   "mimetype": "text/x-python",
   "name": "python",
   "nbconvert_exporter": "python",
   "pygments_lexer": "ipython3",
   "version": "3.9.5"
  }
 },
 "nbformat": 4,
 "nbformat_minor": 4
}